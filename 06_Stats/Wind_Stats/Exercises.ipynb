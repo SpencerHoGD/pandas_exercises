{
 "cells": [
  {
   "cell_type": "markdown",
   "metadata": {},
   "outputs": [],
   "source": [
    "# Wind Statistics"
   ]
  },
  {
   "cell_type": "markdown",
   "metadata": {},
   "outputs": [],
   "source": [
    "### Introduction:\n",
    "\n",
    "The data have been modified to contain some missing values, identified by NaN.  \n",
    "Using pandas should make this exercise\n",
    "easier, in particular for the bonus question.\n",
    "\n",
    "You should be able to perform all of these operations without using\n",
    "a for loop or other looping construct.\n",
    "\n",
    "\n",
    "1. The data in 'wind.data' has the following format:"
   ]
  },
  {
   "cell_type": "code",
   "metadata": {},
   "outputs": [],
   "source": [
    "\"\"\"\n",
    "Yr Mo Dy   RPT   VAL   ROS   KIL   SHA   BIR   DUB   CLA   MUL   CLO   BEL   MAL\n",
    "61  1  1 15.04 14.96 13.17  9.29   NaN  9.87 13.67 10.25 10.83 12.58 18.50 15.04\n",
    "61  1  2 14.71   NaN 10.83  6.50 12.62  7.67 11.50 10.04  9.79  9.67 17.54 13.83\n",
    "61  1  3 18.50 16.88 12.33 10.13 11.17  6.17 11.25   NaN  8.50  7.67 12.75 12.71\n",
    "\"\"\""
   ]
  },
  {
   "cell_type": "markdown",
   "metadata": {},
   "outputs": [],
   "source": [
    "   The first three columns are year, month and day.  The\n",
    "   remaining 12 columns are average windspeeds in knots at 12\n",
    "   locations in Ireland on that day.   \n",
    "\n",
    "   More information about the dataset go [here](wind.desc)."
   ]
  },
  {
   "cell_type": "markdown",
   "metadata": {
    "collapsed": false
   },
   "outputs": [],
   "source": [
    "### Step 1. Import the necessary libraries"
   ]
  },
  {
   "cell_type": "code",
   "metadata": {
    "collapsed": false
   },
   "outputs": [],
   "source": []
  },
  {
   "cell_type": "markdown",
   "metadata": {},
   "outputs": [],
   "source": [
    "### Step 2. Import the dataset from this [address](https://raw.githubusercontent.com/guipsamora/pandas_exercises/master/06_Stats/Wind_Stats/wind.data)"
   ]
  },
  {
   "cell_type": "markdown",
   "metadata": {},
   "outputs": [],
   "source": [
    "### Step 3. Assign it to a variable called data and replace the first 3 columns by a proper datetime index."
   ]
  },
  {
   "cell_type": "code",
   "metadata": {},
   "outputs": [],
   "source": [
    "data_url = './06_Stats/Wind_Stats/wind.data'\n",
    "data = pd.read_csv(data_url, sep='\\s+', parse_dates=[[0, 1, 2]])\n",
    "data"
   ]
  },
  {
   "cell_type": "markdown",
   "metadata": {},
   "outputs": [],
   "source": [
    "### Step 4. Year 2061? Do we really have data from this year? Create a function to fix it and apply it."
   ]
  },
  {
   "cell_type": "code",
   "metadata": {},
   "outputs": [],
   "source": [
    "import datetime \n",
    "# functions that uses datetime\n",
    "def fix_century(x):\n",
    "    year = x.year - 100 if x.year > 1989 else x.year\n",
    "    return datetime.date(year, x.month, x.day)"
   ]
  },
  {
   "cell_type": "code",
   "metadata": {},
   "outputs": [],
   "source": []
  },
  {
   "cell_type": "code",
   "metadata": {},
   "outputs": [],
   "source": [
    "data['Yr_Mo_Dy'] = data['Yr_Mo_Dy'].apply(fix_century)\n",
    "data"
   ]
  },
  {
   "cell_type": "markdown",
   "metadata": {},
   "outputs": [],
   "source": [
    "### Step 5. Set the right dates as the index. Pay attention at the data type, it should be datetime64[ns]."
   ]
  },
  {
   "cell_type": "code",
   "metadata": {},
   "outputs": [],
   "source": [
    "data.info()"
   ]
  },
  {
   "cell_type": "code",
   "metadata": {},
   "outputs": [],
   "source": [
    "data['Yr_Mo_Dy'] = pd.to_datetime(data['Yr_Mo_Dy'])\n",
    "data.info()"
   ]
  },
  {
   "cell_type": "code",
   "metadata": {},
   "outputs": [],
   "source": [
    "data.set_index('Yr_Mo_Dy', inplace=True)\n",
    "data.info()"
   ]
  },
  {
   "cell_type": "markdown",
   "metadata": {},
   "outputs": [],
   "source": [
    "### Step 6. Compute how many values are missing for each location over the entire record.  \n",
    "#### They should be ignored in all calculations below. "
   ]
  },
  {
   "cell_type": "code",
   "metadata": {},
   "outputs": [],
   "source": [
    "data.isnull().sum()"
   ]
  },
  {
   "cell_type": "markdown",
   "metadata": {},
   "outputs": [],
   "source": [
    "### Step 7. Compute how many non-missing values there are in total."
   ]
  },
  {
   "cell_type": "code",
   "metadata": {},
   "outputs": [],
   "source": [
    "data.notnull().sum()"
   ]
  },
  {
   "cell_type": "markdown",
   "metadata": {},
   "outputs": [],
   "source": [
    "### Step 8. Calculate the mean windspeeds of the windspeeds over all the locations and all the times.\n",
    "#### A single number for the entire dataset."
   ]
  },
  {
   "cell_type": "code",
   "metadata": {},
   "outputs": [],
   "source": [
    "data.fillna(0).values.flatten().mean()"
   ]
  },
  {
   "cell_type": "markdown",
   "metadata": {},
   "outputs": [],
   "source": [
    "### Step 9. Create a DataFrame called loc_stats and calculate the min, max and mean windspeeds and standard deviations of the windspeeds at each location over all the days \n",
    "\n",
    "#### A different set of numbers for each location."
   ]
  },
  {
   "cell_type": "code",
   "metadata": {},
   "outputs": [],
   "source": [
    "loc_stats = data.fillna(0).describe(percentiles=[]).round(2)\n",
    "loc_stats"
   ]
  },
  {
   "cell_type": "markdown",
   "metadata": {},
   "outputs": [],
   "source": [
    "### Step 10. Create a DataFrame called day_stats and calculate the min, max and mean windspeed and standard deviations of the windspeeds across all the locations at each day.\n",
    "\n",
    "#### A different set of numbers for each day."
   ]
  },
  {
   "cell_type": "code",
   "metadata": {
    "collapsed": false
   },
   "outputs": [],
   "source": [
    "# data = data.fillna(0)"
   ]
  },
  {
   "cell_type": "code",
   "metadata": {},
   "outputs": [],
   "source": [
    "day_stats = pd.DataFrame()\n",
    "day_stats['min'] = data.min(axis=1)\n",
    "day_stats['max'] = data.max(axis=1)\n",
    "day_stats['mean'] = data.mean(axis=1)\n",
    "day_stats['std'] = data.std(axis=1)\n",
    "day_stats"
   ]
  },
  {
   "cell_type": "markdown",
   "metadata": {},
   "outputs": [],
   "source": [
    "### Step 11. Find the average windspeed in January for each location.  \n",
    "#### Treat January 1961 and January 1962 both as January."
   ]
  },
  {
   "cell_type": "code",
   "metadata": {},
   "outputs": [],
   "source": [
    "data.loc[data.index.month == 1].mean()"
   ]
  },
  {
   "cell_type": "markdown",
   "metadata": {},
   "outputs": [],
   "source": [
    "### Step 12. Downsample the record to a yearly frequency for each location."
   ]
  },
  {
   "cell_type": "code",
   "metadata": {},
   "outputs": [],
   "source": [
    "data.groupby(data.index.to_period('A')).mean()"
   ]
  },
  {
   "cell_type": "markdown",
   "metadata": {},
   "outputs": [],
   "source": [
    "### Step 13. Downsample the record to a monthly frequency for each location."
   ]
  },
  {
   "cell_type": "code",
   "metadata": {},
   "outputs": [],
   "source": [
    "data.groupby(data.index.to_period('M')).mean()"
   ]
  },
  {
   "cell_type": "markdown",
   "metadata": {},
   "outputs": [],
   "source": [
    "### Step 14. Downsample the record to a weekly frequency for each location."
   ]
  },
  {
   "cell_type": "code",
   "metadata": {},
   "outputs": [],
   "source": [
    "data.groupby(data.index.to_period('W')).mean()"
   ]
  },
  {
   "cell_type": "markdown",
   "metadata": {},
   "outputs": [],
   "source": [
    "### Step 15. Calculate the min, max and mean windspeeds and standard deviations of the windspeeds across all locations for each week (assume that the first week starts on January 2 1961) for the first 52 weeks."
   ]
  },
  {
   "cell_type": "code",
   "execution_count": 54,
   "metadata": {},
   "outputs": [
    {
     "data": {
      "text/html": "<div>\n<style scoped>\n    .dataframe tbody tr th:only-of-type {\n        vertical-align: middle;\n    }\n\n    .dataframe tbody tr th {\n        vertical-align: top;\n    }\n\n    .dataframe thead tr th {\n        text-align: left;\n    }\n\n    .dataframe thead tr:last-of-type th {\n        text-align: right;\n    }\n</style>\n<table border=\"1\" class=\"dataframe\">\n  <thead>\n    <tr>\n      <th></th>\n      <th colspan=\"4\" halign=\"left\">RPT</th>\n      <th colspan=\"4\" halign=\"left\">VAL</th>\n      <th colspan=\"2\" halign=\"left\">ROS</th>\n      <th>...</th>\n      <th colspan=\"2\" halign=\"left\">CLO</th>\n      <th colspan=\"4\" halign=\"left\">BEL</th>\n      <th colspan=\"4\" halign=\"left\">MAL</th>\n    </tr>\n    <tr>\n      <th></th>\n      <th>min</th>\n      <th>max</th>\n      <th>mean</th>\n      <th>std</th>\n      <th>min</th>\n      <th>max</th>\n      <th>mean</th>\n      <th>std</th>\n      <th>min</th>\n      <th>max</th>\n      <th>...</th>\n      <th>mean</th>\n      <th>std</th>\n      <th>min</th>\n      <th>max</th>\n      <th>mean</th>\n      <th>std</th>\n      <th>min</th>\n      <th>max</th>\n      <th>mean</th>\n      <th>std</th>\n    </tr>\n    <tr>\n      <th>Yr_Mo_Dy</th>\n      <th></th>\n      <th></th>\n      <th></th>\n      <th></th>\n      <th></th>\n      <th></th>\n      <th></th>\n      <th></th>\n      <th></th>\n      <th></th>\n      <th></th>\n      <th></th>\n      <th></th>\n      <th></th>\n      <th></th>\n      <th></th>\n      <th></th>\n      <th></th>\n      <th></th>\n      <th></th>\n      <th></th>\n    </tr>\n  </thead>\n  <tbody>\n    <tr>\n      <th>1961-01-08</th>\n      <td>10.58</td>\n      <td>18.50</td>\n      <td>13.541429</td>\n      <td>2.631321</td>\n      <td>0.00</td>\n      <td>16.88</td>\n      <td>9.845714</td>\n      <td>5.643406</td>\n      <td>7.62</td>\n      <td>12.33</td>\n      <td>...</td>\n      <td>8.497143</td>\n      <td>1.704941</td>\n      <td>5.46</td>\n      <td>17.54</td>\n      <td>12.481429</td>\n      <td>4.349139</td>\n      <td>10.88</td>\n      <td>16.46</td>\n      <td>13.238571</td>\n      <td>1.773062</td>\n    </tr>\n    <tr>\n      <th>1961-01-15</th>\n      <td>9.04</td>\n      <td>19.75</td>\n      <td>12.468571</td>\n      <td>3.555392</td>\n      <td>3.54</td>\n      <td>12.08</td>\n      <td>8.967143</td>\n      <td>3.148945</td>\n      <td>7.08</td>\n      <td>19.50</td>\n      <td>...</td>\n      <td>7.571429</td>\n      <td>4.084293</td>\n      <td>5.25</td>\n      <td>20.71</td>\n      <td>11.125714</td>\n      <td>5.552215</td>\n      <td>5.17</td>\n      <td>16.92</td>\n      <td>11.024286</td>\n      <td>4.692355</td>\n    </tr>\n    <tr>\n      <th>1961-01-22</th>\n      <td>4.92</td>\n      <td>19.83</td>\n      <td>13.204286</td>\n      <td>5.337402</td>\n      <td>3.42</td>\n      <td>14.37</td>\n      <td>9.862857</td>\n      <td>3.837785</td>\n      <td>7.29</td>\n      <td>20.79</td>\n      <td>...</td>\n      <td>8.124286</td>\n      <td>4.783952</td>\n      <td>6.50</td>\n      <td>15.92</td>\n      <td>9.821429</td>\n      <td>3.626584</td>\n      <td>6.79</td>\n      <td>17.96</td>\n      <td>11.434286</td>\n      <td>4.237239</td>\n    </tr>\n    <tr>\n      <th>1961-01-29</th>\n      <td>0.00</td>\n      <td>25.04</td>\n      <td>17.040000</td>\n      <td>8.616204</td>\n      <td>9.96</td>\n      <td>23.91</td>\n      <td>16.141429</td>\n      <td>5.170224</td>\n      <td>12.67</td>\n      <td>25.84</td>\n      <td>...</td>\n      <td>15.640000</td>\n      <td>3.713368</td>\n      <td>14.04</td>\n      <td>27.71</td>\n      <td>20.930000</td>\n      <td>5.210726</td>\n      <td>17.50</td>\n      <td>27.63</td>\n      <td>22.530000</td>\n      <td>3.874721</td>\n    </tr>\n    <tr>\n      <th>1961-02-05</th>\n      <td>10.58</td>\n      <td>24.21</td>\n      <td>16.827143</td>\n      <td>5.251408</td>\n      <td>9.46</td>\n      <td>24.21</td>\n      <td>15.460000</td>\n      <td>5.187395</td>\n      <td>9.04</td>\n      <td>19.70</td>\n      <td>...</td>\n      <td>9.460000</td>\n      <td>2.839501</td>\n      <td>9.17</td>\n      <td>19.33</td>\n      <td>14.012857</td>\n      <td>4.210858</td>\n      <td>7.17</td>\n      <td>19.25</td>\n      <td>11.935714</td>\n      <td>4.336104</td>\n    </tr>\n    <tr>\n      <th>1961-02-12</th>\n      <td>16.00</td>\n      <td>24.54</td>\n      <td>19.684286</td>\n      <td>3.587677</td>\n      <td>11.54</td>\n      <td>21.42</td>\n      <td>16.417143</td>\n      <td>3.608373</td>\n      <td>13.67</td>\n      <td>21.34</td>\n      <td>...</td>\n      <td>14.440000</td>\n      <td>1.746749</td>\n      <td>15.21</td>\n      <td>26.38</td>\n      <td>21.832857</td>\n      <td>4.063753</td>\n      <td>17.04</td>\n      <td>21.84</td>\n      <td>19.155714</td>\n      <td>1.828705</td>\n    </tr>\n    <tr>\n      <th>1961-02-19</th>\n      <td>6.04</td>\n      <td>22.50</td>\n      <td>15.130000</td>\n      <td>5.064609</td>\n      <td>11.63</td>\n      <td>20.17</td>\n      <td>15.091429</td>\n      <td>3.575012</td>\n      <td>6.13</td>\n      <td>19.41</td>\n      <td>...</td>\n      <td>13.542857</td>\n      <td>2.531361</td>\n      <td>14.09</td>\n      <td>29.63</td>\n      <td>21.167143</td>\n      <td>5.910938</td>\n      <td>10.96</td>\n      <td>22.58</td>\n      <td>16.584286</td>\n      <td>4.685377</td>\n    </tr>\n    <tr>\n      <th>1961-02-26</th>\n      <td>7.79</td>\n      <td>25.80</td>\n      <td>15.221429</td>\n      <td>7.020716</td>\n      <td>7.08</td>\n      <td>21.50</td>\n      <td>13.625714</td>\n      <td>5.147348</td>\n      <td>6.08</td>\n      <td>22.42</td>\n      <td>...</td>\n      <td>12.730000</td>\n      <td>4.920064</td>\n      <td>9.59</td>\n      <td>23.21</td>\n      <td>16.304286</td>\n      <td>5.091162</td>\n      <td>6.67</td>\n      <td>23.87</td>\n      <td>14.322857</td>\n      <td>6.182283</td>\n    </tr>\n    <tr>\n      <th>1961-03-05</th>\n      <td>10.96</td>\n      <td>13.33</td>\n      <td>12.101429</td>\n      <td>0.997721</td>\n      <td>8.83</td>\n      <td>17.00</td>\n      <td>12.951429</td>\n      <td>2.851955</td>\n      <td>0.00</td>\n      <td>13.67</td>\n      <td>...</td>\n      <td>12.370000</td>\n      <td>1.593685</td>\n      <td>11.58</td>\n      <td>23.45</td>\n      <td>17.842857</td>\n      <td>4.332331</td>\n      <td>0.00</td>\n      <td>17.54</td>\n      <td>11.958571</td>\n      <td>5.950993</td>\n    </tr>\n    <tr>\n      <th>1961-03-12</th>\n      <td>0.00</td>\n      <td>14.79</td>\n      <td>8.037143</td>\n      <td>4.916139</td>\n      <td>8.08</td>\n      <td>16.96</td>\n      <td>11.578571</td>\n      <td>3.230167</td>\n      <td>7.54</td>\n      <td>16.38</td>\n      <td>...</td>\n      <td>10.458571</td>\n      <td>3.655113</td>\n      <td>10.21</td>\n      <td>22.71</td>\n      <td>16.701429</td>\n      <td>4.358759</td>\n      <td>5.54</td>\n      <td>22.54</td>\n      <td>14.420000</td>\n      <td>5.769890</td>\n    </tr>\n  </tbody>\n</table>\n<p>10 rows × 48 columns</p>\n</div>",
      "text/plain": "              RPT                                VAL                    \\\n              min    max       mean       std    min    max       mean   \nYr_Mo_Dy                                                                 \n1961-01-08  10.58  18.50  13.541429  2.631321   0.00  16.88   9.845714   \n1961-01-15   9.04  19.75  12.468571  3.555392   3.54  12.08   8.967143   \n1961-01-22   4.92  19.83  13.204286  5.337402   3.42  14.37   9.862857   \n1961-01-29   0.00  25.04  17.040000  8.616204   9.96  23.91  16.141429   \n1961-02-05  10.58  24.21  16.827143  5.251408   9.46  24.21  15.460000   \n1961-02-12  16.00  24.54  19.684286  3.587677  11.54  21.42  16.417143   \n1961-02-19   6.04  22.50  15.130000  5.064609  11.63  20.17  15.091429   \n1961-02-26   7.79  25.80  15.221429  7.020716   7.08  21.50  13.625714   \n1961-03-05  10.96  13.33  12.101429  0.997721   8.83  17.00  12.951429   \n1961-03-12   0.00  14.79   8.037143  4.916139   8.08  16.96  11.578571   \n\n                        ROS         ...        CLO              BEL         \\\n                 std    min    max  ...       mean       std    min    max   \nYr_Mo_Dy                            ...                                      \n1961-01-08  5.643406   7.62  12.33  ...   8.497143  1.704941   5.46  17.54   \n1961-01-15  3.148945   7.08  19.50  ...   7.571429  4.084293   5.25  20.71   \n1961-01-22  3.837785   7.29  20.79  ...   8.124286  4.783952   6.50  15.92   \n1961-01-29  5.170224  12.67  25.84  ...  15.640000  3.713368  14.04  27.71   \n1961-02-05  5.187395   9.04  19.70  ...   9.460000  2.839501   9.17  19.33   \n1961-02-12  3.608373  13.67  21.34  ...  14.440000  1.746749  15.21  26.38   \n1961-02-19  3.575012   6.13  19.41  ...  13.542857  2.531361  14.09  29.63   \n1961-02-26  5.147348   6.08  22.42  ...  12.730000  4.920064   9.59  23.21   \n1961-03-05  2.851955   0.00  13.67  ...  12.370000  1.593685  11.58  23.45   \n1961-03-12  3.230167   7.54  16.38  ...  10.458571  3.655113  10.21  22.71   \n\n                                   MAL                              \n                 mean       std    min    max       mean       std  \nYr_Mo_Dy                                                            \n1961-01-08  12.481429  4.349139  10.88  16.46  13.238571  1.773062  \n1961-01-15  11.125714  5.552215   5.17  16.92  11.024286  4.692355  \n1961-01-22   9.821429  3.626584   6.79  17.96  11.434286  4.237239  \n1961-01-29  20.930000  5.210726  17.50  27.63  22.530000  3.874721  \n1961-02-05  14.012857  4.210858   7.17  19.25  11.935714  4.336104  \n1961-02-12  21.832857  4.063753  17.04  21.84  19.155714  1.828705  \n1961-02-19  21.167143  5.910938  10.96  22.58  16.584286  4.685377  \n1961-02-26  16.304286  5.091162   6.67  23.87  14.322857  6.182283  \n1961-03-05  17.842857  4.332331   0.00  17.54  11.958571  5.950993  \n1961-03-12  16.701429  4.358759   5.54  22.54  14.420000  5.769890  \n\n[10 rows x 48 columns]"
     },
     "execution_count": 54,
     "metadata": {},
     "output_type": "execute_result"
    }
   ],
   "source": [
    "weekly = data.fillna(0).resample('W').agg(['min','max','mean','std'])\n",
    "weekly.loc[weekly.index[1:53], 'RPT':'MAL'].head(10)"
   ]
  },
  {
   "cell_type": "code",
   "metadata": {},
   "outputs": [],
   "source": []
  }
 ],
 "metadata": {
  "anaconda-cloud": {},
  "kernelspec": {
   "display_name": "Python [default]",
   "language": "python",
   "name": "python2"
  },
  "language_info": {
   "codemirror_mode": {
    "name": "ipython",
    "version": 2
   },
   "file_extension": ".py",
   "mimetype": "text/x-python",
   "name": "python",
   "nbconvert_exporter": "python",
   "pygments_lexer": "ipython2",
   "version": "3.8.0"
  }
 },
 "nbformat": 4,
 "nbformat_minor": 0
}